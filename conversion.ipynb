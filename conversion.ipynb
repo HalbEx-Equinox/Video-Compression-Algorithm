{
 "cells": [
  {
   "cell_type": "code",
   "execution_count": null,
   "metadata": {}
   "source": [
    "import cv2\n",
    "import numpy as np\n",
    "import os\n",
    "\n",
    "cap_video = cv2.VideoCapture('example.mp4')\n",
    "\n",
    "try:\n",
    "    if not os.path.exists('frames'):\n",
    "        os.makedirs('frames')\n",
    "except OSError:\n",
    "    print ('Error while creating directory.')\n",
    "\n",
    "currentFrame = 0\n",
    "frame_array = []\n",
    "while(True):\n",
    "    \n",
    "    ret, frame = cap_video.read()\n",
    "    if not ret: break\n",
    "\n",
    "    name = './frames/frame' + str(currentFrame) + '.jpg'\n",
    "    print ('Creating            =' + name)\n",
    "    cv2.imwrite(name, frame)\n",
    "    img = cv2.imread(name)\n",
    "    frame_array.append(img)\n",
    "    currentFrame += 1\n",
    "\n",
    "height, width, layers = frame_array[0].shape\n",
    "size = (width,height)\n",
    "fps = cap_video.get(cv2.CAP_PROP_FPS)\n",
    "out = cv2.VideoWriter('recheck.mp4',cv2.VideoWriter_fourcc(*'DIVX'), fps, size)\n",
    "\n",
    "for i in range(len(frame_array)):\n",
    "    out.write(frame_array[i])\n",
    "out.release()\n",
    "\n",
    "\n",
    "cap_video.release()\n",
    "cv2.destroyAllWindows()"
   ]
  },
  {
   "cell_type": "code",
   "execution_count": null,
   "metadata": {}
   "source": [
    "for i in range(len(frame_array)-1):\n",
    "    print(frame_array[i].shape)"
   ]
  },
  {
   "cell_type": "code",
   "execution_count": 8,
   "metadata": {},
   "outputs": [
    {
     "data": {
      "text/plain": [
       "(360, 640, 3)"
      ]
     },
     "execution_count": 8,
     "metadata": {},
     "output_type": "execute_result"
    }
   ],
   "source": [
    "frame_array[1].shape"
   ]
  },
  {
   "cell_type": "code",
   "execution_count": null,
   "metadata": {},
   "outputs": [],
   "source": [
    "#the code run perfectlyt to create a directory for the broken down frames from the video and then comparing the \n",
    "#frames based on a certain formula/logic through which the code eliminates frames which are the same. Now, the uneliminated\n",
    "#frames are sequenced/combined in order to create the required video.\n",
    "import cv2\n",
    "import numpy as np\n",
    "import os\n",
    "from skimage import measure\n",
    "import matplotlib.pyplot as plt\n",
    "\n",
    "cap_video = cv2.VideoCapture('example1.mov')\n",
    "frame_array = []\n",
    "\n",
    "def convert_frame():\n",
    "    try:\n",
    "        if not os.path.exists('frames1'):\n",
    "            os.makedirs('frames1')\n",
    "    except OSError:\n",
    "        print ('Error while creating directory.')\n",
    "    currentFrame = 0\n",
    "    while(True):\n",
    "    \n",
    "        ret, frame = cap_video.read()\n",
    "        if not ret: break\n",
    "\n",
    "        name = './frames1/frame' + str(currentFrame) + '.jpg'\n",
    "        print ('Creating            =' + name)\n",
    "        cv2.imwrite(name, frame)\n",
    "        currentFrame += 1\n",
    "    \n",
    "    for i in range(1,currentFrame-1): \n",
    "        p_name = \"./frames1/frame{}.jpg\".format(i) \n",
    "        nf_name = \"./frames1/frame{}.jpg\".format(i+1)\n",
    "        compare_images(p_name,nf_name)   \n",
    "    height, width, layers = frame_array[0].shape\n",
    "    size = (width,height)\n",
    "    fps = round(cap_video.get(cv2.CAP_PROP_FPS))\n",
    "    out = cv2.VideoWriter('recheck1.mp4',cv2.VideoWriter_fourcc(*'DIVX'), fps, size)\n",
    "    for i in range(len(frame_array)):\n",
    "        out.write(frame_array[i])\n",
    "    out.release()\n",
    "    \n",
    "        \n",
    "    cap_video.release()\n",
    "    cv2.destroyAllWindows()\n",
    "\n",
    "def compare_images(imageA, imageB):\n",
    "    \n",
    "    first_frame = cv2.imread(imageA)\n",
    "    next_frame = cv2.imread(imageB)\n",
    "    imageA1 = cv2.cvtColor(first_frame, cv2.COLOR_BGR2GRAY)\n",
    "    imageB1 = cv2.cvtColor(next_frame, cv2.COLOR_BGR2GRAY)\n",
    "    mse = np.sum((imageA1.astype(\"float\") - imageB1.astype(\"float\")) ** 2)\n",
    "    mse /= float(imageA1.shape[0] * imageA1.shape[1])\n",
    "\n",
    "    ssim = measure.compare_ssim(imageA1, imageB1)\n",
    "    if mse <= 155.0 and ssim >= 0.66: #these values can be changed based on trial and error of the actual camera\n",
    "        img = cv2.imread(imageB)\n",
    "        frame_array.append(img)\n",
    "    #to confirm and see the frames which are been compared based on the mse and ssim values.\n",
    "#         fig = plt.figure(\"Compare\")\n",
    "#         plt.suptitle(\"MSE: %.2f, SSIM: %.2f\" % (mse, ssim))\n",
    "    \n",
    "#         ax = fig.add_subplot(1, 2, 1)\n",
    "#         plt.imshow(imageA1,cmap = plt.cm.gray)\n",
    "#         plt.axis(\"off\")\n",
    "    \n",
    "#         ax = fig.add_subplot(1, 2, 2)\n",
    "#         plt.imshow(imageB1,cmap = plt.cm.gray)\n",
    "#         plt.axis(\"off\")\n",
    "    \n",
    "#         plt.show()\n",
    "    else:\n",
    "        frame_array.append(first_frame)\n",
    "        frame_array.append(next_frame)\n",
    "    \n",
    "convert_frame()\n"
   ]
  },
  {
   "cell_type": "code",
   "execution_count": null,
   "metadata": {},
   "outputs": [],
   "source": []
  },
  {
   "cell_type": "code",
   "execution_count": null,
   "metadata": {},
   "outputs": [],
   "source": []
  }
 ],
 "metadata": {
  "kernelspec": {
   "display_name": "Python 3",
   "language": "python",
   "name": "python3"
  },
  "language_info": {
   "codemirror_mode": {
    "name": "ipython",
    "version": 3
   },
   "file_extension": ".py",
   "mimetype": "text/x-python",
   "name": "python",
   "nbconvert_exporter": "python",
   "pygments_lexer": "ipython3",
   "version": "3.7.7"
  }
 },
 "nbformat": 4,
 "nbformat_minor": 2
}
